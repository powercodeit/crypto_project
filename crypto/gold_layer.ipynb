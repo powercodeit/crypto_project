{
 "cells": [
  {
   "cell_type": "markdown",
   "metadata": {
    "application/vnd.databricks.v1+cell": {
     "cellMetadata": {
      "byteLimit": 2048000,
      "rowLimit": 10000
     },
     "inputWidgets": {},
     "nuid": "db71dfa7-a52c-44c4-a738-002c054822bf",
     "showTitle": false,
     "tableResultSettingsMap": {},
     "title": ""
    }
   },
   "source": [
    "### Creating CATALOG, SCHEMA AND TABLES"
   ]
  },
  {
   "cell_type": "code",
   "execution_count": 0,
   "metadata": {
    "application/vnd.databricks.v1+cell": {
     "cellMetadata": {
      "byteLimit": 2048000,
      "implicitDf": true,
      "rowLimit": 10000
     },
     "inputWidgets": {},
     "nuid": "5dbcf932-7d6a-4f78-b476-deea9b25e7bb",
     "showTitle": false,
     "tableResultSettingsMap": {},
     "title": ""
    }
   },
   "outputs": [],
   "source": [
    "%sql\n",
    "CREATE CATALOG IF NOT EXISTS ctl_crypto;"
   ]
  },
  {
   "cell_type": "code",
   "execution_count": 0,
   "metadata": {
    "application/vnd.databricks.v1+cell": {
     "cellMetadata": {
      "byteLimit": 2048000,
      "implicitDf": true,
      "rowLimit": 10000
     },
     "inputWidgets": {},
     "nuid": "650ed1ff-0c48-4046-b03f-c5bb4c0f6f94",
     "showTitle": false,
     "tableResultSettingsMap": {},
     "title": ""
    }
   },
   "outputs": [],
   "source": [
    "%sql\n",
    "CREATE SCHEMA IF NOT EXISTS ctl_crypto.staging_schema;"
   ]
  },
  {
   "cell_type": "code",
   "execution_count": 0,
   "metadata": {
    "application/vnd.databricks.v1+cell": {
     "cellMetadata": {
      "byteLimit": 2048000,
      "rowLimit": 10000
     },
     "inputWidgets": {},
     "nuid": "09ce54ae-a9bd-44e8-afd8-dd5abb22e382",
     "showTitle": false,
     "tableResultSettingsMap": {},
     "title": ""
    }
   },
   "outputs": [],
   "source": [
    "silver_path=\"abfss://silver@cryptostoragesy01.dfs.core.windows.net/silver_crypto\"\n",
    "gold_path=\"abfss://gold@cryptostoragesy01.dfs.core.windows.net/\""
   ]
  },
  {
   "cell_type": "code",
   "execution_count": 0,
   "metadata": {
    "application/vnd.databricks.v1+cell": {
     "cellMetadata": {
      "byteLimit": 2048000,
      "implicitDf": true,
      "rowLimit": 10000
     },
     "inputWidgets": {},
     "nuid": "6223f08d-9b84-4ac0-8cbc-a831e0e6339c",
     "showTitle": false,
     "tableResultSettingsMap": {},
     "title": ""
    }
   },
   "outputs": [],
   "source": [
    "%sql\n",
    "CREATE TABLE IF NOT EXISTS ctl_crypto.staging_schema.raw_silver\n",
    "USING DELTA\n",
    "LOCATION 'abfss://silver@cryptostoragesy01.dfs.core.windows.net/silver_crypto'"
   ]
  },
  {
   "cell_type": "code",
   "execution_count": 0,
   "metadata": {
    "application/vnd.databricks.v1+cell": {
     "cellMetadata": {
      "byteLimit": 2048000,
      "implicitDf": true,
      "rowLimit": 10000
     },
     "inputWidgets": {},
     "nuid": "4f4aaaa7-871f-48f1-ad91-a54286913666",
     "showTitle": false,
     "tableResultSettingsMap": {},
     "title": ""
    }
   },
   "outputs": [],
   "source": [
    "%sql\n",
    "SELECT * FROM ctl_crypto.staging_schema.raw_silver\n",
    "LIMIT 10;"
   ]
  },
  {
   "cell_type": "code",
   "execution_count": 0,
   "metadata": {
    "application/vnd.databricks.v1+cell": {
     "cellMetadata": {
      "byteLimit": 2048000,
      "implicitDf": true,
      "rowLimit": 10000
     },
     "inputWidgets": {},
     "nuid": "0f824c04-9c0c-40ba-870c-074b3e8af050",
     "showTitle": false,
     "tableResultSettingsMap": {},
     "title": ""
    }
   },
   "outputs": [],
   "source": [
    "%sql\n",
    "SELECT COUNT(*) FROM ctl_crypto.staging_schema.raw_silver;"
   ]
  },
  {
   "cell_type": "markdown",
   "metadata": {
    "application/vnd.databricks.v1+cell": {
     "cellMetadata": {
      "byteLimit": 2048000,
      "rowLimit": 10000
     },
     "inputWidgets": {},
     "nuid": "bd304219-057f-46be-9267-6c37bd76fdc2",
     "showTitle": false,
     "tableResultSettingsMap": {},
     "title": ""
    }
   },
   "source": [
    "## NORMALIZING THE GENERAL TABLE\n",
    "-- By extracting the fact and dimension tables"
   ]
  },
  {
   "cell_type": "code",
   "execution_count": 0,
   "metadata": {
    "application/vnd.databricks.v1+cell": {
     "cellMetadata": {
      "byteLimit": 2048000,
      "implicitDf": true,
      "rowLimit": 10000
     },
     "inputWidgets": {},
     "nuid": "1d9bbdb5-1c71-450c-bd95-ddfd19f8be47",
     "showTitle": false,
     "tableResultSettingsMap": {},
     "title": ""
    }
   },
   "outputs": [],
   "source": [
    "%sql\n",
    "CREATE SCHEMA IF NOT EXISTS ctl_crypto.gold_schema;"
   ]
  },
  {
   "cell_type": "code",
   "execution_count": 0,
   "metadata": {
    "application/vnd.databricks.v1+cell": {
     "cellMetadata": {
      "byteLimit": 2048000,
      "implicitDf": true,
      "rowLimit": 10000
     },
     "inputWidgets": {},
     "nuid": "dadf5444-4479-4404-9f06-7c801f8c3c8d",
     "showTitle": false,
     "tableResultSettingsMap": {},
     "title": ""
    }
   },
   "outputs": [],
   "source": [
    "%sql\n",
    "CREATE TABLE IF NOT EXISTS ctl_crypto.gold_schema.dim_roi(\n",
    "  roi_id BIGINT GENERATED ALWAYS AS IDENTITY PRIMARY KEY,\n",
    "  id STRING,\n",
    "  roi_time DOUBLE,\n",
    "  roi_currency STRING,\n",
    "  roi_percentage DOUBLE,\n",
    "  last_updated_ts TIMESTAMP\n",
    ")\n",
    "USING DELTA\n",
    "LOCATION 'abfss://gold@cryptostoragesy01.dfs.core.windows.net/dim_roi'"
   ]
  },
  {
   "cell_type": "code",
   "execution_count": 0,
   "metadata": {
    "application/vnd.databricks.v1+cell": {
     "cellMetadata": {
      "byteLimit": 2048000,
      "implicitDf": true,
      "rowLimit": 10000
     },
     "inputWidgets": {},
     "nuid": "dd88b90e-b9f6-4312-85eb-d823ca89d7d9",
     "showTitle": false,
     "tableResultSettingsMap": {},
     "title": ""
    }
   },
   "outputs": [],
   "source": [
    "%sql\n",
    "CREATE TABLE IF NOT EXISTS ctl_crypto.gold_schema.dim_crypto(\n",
    "dim_crypto_id BIGINT GENERATED ALWAYS AS IDENTITY PRIMARY KEY,\n",
    "id STRING,\n",
    "name STRING,\n",
    "symbol STRING,\n",
    "image STRING,\n",
    "market_cap_billions DOUBLE,\n",
    "volume_to_market_cap_ratio DOUBLE,\n",
    "last_updated_ts TIMESTAMP\n",
    ")\n",
    "USING DELTA\n",
    "LOCATION 'abfss://gold@cryptostoragesy01.dfs.core.windows.net/dim_crypto'"
   ]
  },
  {
   "cell_type": "code",
   "execution_count": 0,
   "metadata": {
    "application/vnd.databricks.v1+cell": {
     "cellMetadata": {
      "byteLimit": 2048000,
      "implicitDf": true,
      "rowLimit": 10000
     },
     "inputWidgets": {},
     "nuid": "215f577a-c618-4875-9c06-83c4a50fde0e",
     "showTitle": false,
     "tableResultSettingsMap": {},
     "title": ""
    }
   },
   "outputs": [],
   "source": [
    "%sql\n",
    "DROP TABLE IF EXISTS ctl_crypto.gold_schema.fact_crypto"
   ]
  },
  {
   "cell_type": "code",
   "execution_count": 0,
   "metadata": {
    "application/vnd.databricks.v1+cell": {
     "cellMetadata": {
      "byteLimit": 2048000,
      "implicitDf": true,
      "rowLimit": 10000
     },
     "inputWidgets": {},
     "nuid": "fca329e7-4489-4391-a5ab-81dc5c29fb16",
     "showTitle": false,
     "tableResultSettingsMap": {},
     "title": ""
    }
   },
   "outputs": [],
   "source": [
    "%sql\n",
    "CREATE TABLE IF NOT EXISTS ctl_crypto.gold_schema.fact_crypto(\n",
    "id STRING PRIMARY KEY,\n",
    "market_cap_rank BIGINT,\n",
    "max_supply DOUBLE,\n",
    "total_supply DOUBLE,\n",
    "total_volume DOUBLE,\n",
    "circulating_supply DOUBLE,\n",
    "market_cap DOUBLE,\n",
    "market_cap_change_24h DOUBLE,\n",
    "market_cap_change_percentage_24h DOUBLE,\n",
    "price_change_24h DOUBLE,\n",
    "price_change_percentage_24h DOUBLE,\n",
    "high_24h DOUBLE,\n",
    "low_24h DOUBLE,\n",
    "current_price DOUBLE,\n",
    "fully_diluted_valuation DOUBLE,\n",
    "date_partition DATE,\n",
    "last_updated_ts TIMESTAMP\n",
    ")\n",
    "USING DELTA\n",
    "LOCATION 'abfss://gold@cryptostoragesy01.dfs.core.windows.net/fact_crypto'"
   ]
  },
  {
   "cell_type": "code",
   "execution_count": 0,
   "metadata": {
    "application/vnd.databricks.v1+cell": {
     "cellMetadata": {
      "byteLimit": 2048000,
      "implicitDf": true,
      "rowLimit": 10000
     },
     "inputWidgets": {},
     "nuid": "f287481d-e134-4262-ab46-f074d6d66644",
     "showTitle": false,
     "tableResultSettingsMap": {},
     "title": ""
    }
   },
   "outputs": [],
   "source": [
    "%sql\n",
    "MERGE INTO ctl_crypto.gold_schema.dim_roi AS target\n",
    "USING (\n",
    "  SELECT id,\n",
    "  roi_time,\n",
    "  roi_currency,\n",
    "  roi_percentage,\n",
    "  last_updated_ts,\n",
    "  row_number() OVER(PARTITION BY id ORDER BY last_updated_ts DESC) AS rn\n",
    "    FROM (\n",
    "      SELECT *, row_number() OVER(PARTITION BY id ORDER BY last_updated_ts DESC) AS rn\n",
    "      FROM ctl_crypto.staging_schema.raw_silver) WHERE rn = 1) AS updated_rn\n",
    "\n",
    "  ON target.id = updated_rn.id\n",
    "WHEN MATCHED AND updated_rn.rn = 1 THEN\n",
    "UPDATE SET\n",
    "  target.roi_time = updated_rn.roi_time,\n",
    "  target.roi_currency = updated_rn.roi_currency,\n",
    "  target.roi_percentage = updated_rn.roi_percentage,\n",
    "  target.last_updated_ts = updated_rn.last_updated_ts\n",
    "WHEN NOT MATCHED AND updated_rn.rn = 1 THEN\n",
    "INSERT (\n",
    "  id, \n",
    "  roi_time, \n",
    "  roi_currency, \n",
    "  roi_percentage, \n",
    "  last_updated_ts\n",
    ") \n",
    "VALUES (\n",
    "  updated_rn.id, \n",
    "  updated_rn.roi_time, \n",
    "  updated_rn.roi_currency, \n",
    "  updated_rn.roi_percentage, \n",
    "  updated_rn.last_updated_ts\n",
    ");"
   ]
  },
  {
   "cell_type": "code",
   "execution_count": 0,
   "metadata": {
    "application/vnd.databricks.v1+cell": {
     "cellMetadata": {
      "byteLimit": 2048000,
      "implicitDf": true,
      "rowLimit": 10000
     },
     "inputWidgets": {},
     "nuid": "a753fa63-d5a9-4740-9f7d-00d6549bee68",
     "showTitle": false,
     "tableResultSettingsMap": {},
     "title": ""
    }
   },
   "outputs": [],
   "source": [
    "%sql\n",
    "MERGE INTO ctl_crypto.gold_schema.dim_crypto AS target\n",
    "USING (\n",
    "  SELECT id,\n",
    "    name,\n",
    "    symbol,\n",
    "    image,\n",
    "    market_cap_billions,\n",
    "    volume_to_market_cap_ratio,\n",
    "    last_updated_ts,\n",
    "    row_number() OVER(PARTITION BY id ORDER BY last_updated_ts DESC) AS rn\n",
    "    FROM (\n",
    "      SELECT *, row_number() OVER(PARTITION BY id ORDER BY last_updated_ts DESC) AS rn\n",
    "      FROM ctl_crypto.staging_schema.raw_silver) WHERE rn = 1) AS updated_rn\n",
    "\n",
    "  ON target.id = updated_rn.id\n",
    "WHEN MATCHED AND updated_rn.rn = 1 THEN\n",
    "UPDATE SET\n",
    "  target.name= updated_rn.name,\n",
    "  target.symbol = updated_rn.symbol,\n",
    "  target.image = updated_rn.image,\n",
    "  target.market_cap_billions = updated_rn.market_cap_billions,\n",
    "  target.volume_to_market_cap_ratio = updated_rn.volume_to_market_cap_ratio,\n",
    "  target.last_updated_ts = updated_rn.last_updated_ts\n",
    "WHEN NOT MATCHED AND updated_rn.rn = 1 THEN\n",
    "INSERT (\n",
    "  id, \n",
    "  name, \n",
    "  symbol, \n",
    "  image, \n",
    "  market_cap_billions, \n",
    "  volume_to_market_cap_ratio, \n",
    "  last_updated_ts\n",
    ")\n",
    "VALUES (\n",
    "  updated_rn.id, \n",
    "  updated_rn.name, \n",
    "  updated_rn.symbol, \n",
    "  updated_rn.image, \n",
    "  updated_rn.market_cap_billions, \n",
    "  updated_rn.volume_to_market_cap_ratio, \n",
    "  updated_rn.last_updated_ts\n",
    ");"
   ]
  },
  {
   "cell_type": "code",
   "execution_count": 0,
   "metadata": {
    "application/vnd.databricks.v1+cell": {
     "cellMetadata": {
      "byteLimit": 2048000,
      "implicitDf": true,
      "rowLimit": 10000
     },
     "inputWidgets": {},
     "nuid": "6d4ddbcb-e332-4a44-a207-6cc90f3684ff",
     "showTitle": false,
     "tableResultSettingsMap": {},
     "title": ""
    }
   },
   "outputs": [],
   "source": [
    "%sql\n",
    "MERGE INTO ctl_crypto.gold_schema.fact_crypto AS target\n",
    "USING (\n",
    "  SELECT \n",
    "  id,\n",
    "  market_cap_rank,\n",
    "  max_supply,\n",
    "  total_supply,\n",
    "  total_volume,\n",
    "  circulating_supply,\n",
    "  market_cap,\n",
    "  market_cap_change_24h,\n",
    "  market_cap_change_percentage_24h,\n",
    "  price_change_24h,\n",
    "  price_change_percentage_24h,\n",
    "  high_24h,\n",
    "  low_24h,\n",
    "  current_price,\n",
    "  fully_diluted_valuation,\n",
    "  date_partition,\n",
    "  last_updated_ts,\n",
    "  row_number() OVER(PARTITION BY id ORDER BY last_updated_ts DESC) AS rn\n",
    "  FROM (\n",
    "    SELECT *, row_number() OVER(PARTITION BY id ORDER BY last_updated_ts DESC) AS rn\n",
    "    FROM ctl_crypto.staging_schema.raw_silver) WHERE rn = 1) AS updated_rn\n",
    "\n",
    "ON target.id = updated_rn.id\n",
    "WHEN MATCHED AND updated_rn.rn = 1 THEN\n",
    "UPDATE SET\n",
    "  target.market_cap_rank = updated_rn.market_cap_rank,\n",
    "  target.max_supply = updated_rn.max_supply,\n",
    "  target.total_supply = updated_rn.total_supply,\n",
    "  target.total_volume = updated_rn.total_volume,\n",
    "  target.circulating_supply = updated_rn.circulating_supply,\n",
    "  target.market_cap = updated_rn.market_cap,\n",
    "  target.market_cap_change_24h = updated_rn.market_cap_change_24h,\n",
    "  target.market_cap_change_percentage_24h = updated_rn.market_cap_change_percentage_24h,\n",
    "  target.price_change_24h = updated_rn.price_change_24h,\n",
    "  target.price_change_percentage_24h = updated_rn.price_change_percentage_24h,\n",
    "  target.high_24h = updated_rn.high_24h,\n",
    "  target.low_24h = updated_rn.low_24h,\n",
    "  target.current_price = updated_rn.current_price,\n",
    "  target.fully_diluted_valuation = updated_rn.fully_diluted_valuation,\n",
    "  target.date_partition = updated_rn.date_partition,\n",
    "  target.last_updated_ts = updated_rn.last_updated_ts\n",
    "WHEN NOT MATCHED AND updated_rn.rn = 1 THEN\n",
    "INSERT (\n",
    "  id, \n",
    "  market_cap_rank, \n",
    "  max_supply, \n",
    "  total_supply, \n",
    "  total_volume, \n",
    "  circulating_supply, \n",
    "  market_cap, \n",
    "  market_cap_change_24h, \n",
    "  market_cap_change_percentage_24h, \n",
    "  price_change_24h, \n",
    "  price_change_percentage_24h, \n",
    "  high_24h, \n",
    "  low_24h, \n",
    "  current_price, \n",
    "  fully_diluted_valuation, \n",
    "  date_partition, \n",
    "  last_updated_ts\n",
    ") \n",
    "VALUES (\n",
    "  updated_rn.id, \n",
    "  updated_rn.market_cap_rank, \n",
    "  updated_rn.max_supply, \n",
    "  updated_rn.total_supply, \n",
    "  updated_rn.total_volume, \n",
    "  updated_rn.circulating_supply, \n",
    "  updated_rn.market_cap, \n",
    "  updated_rn.market_cap_change_24h, \n",
    "  updated_rn.market_cap_change_percentage_24h, \n",
    "  updated_rn.price_change_24h, \n",
    "  updated_rn.price_change_percentage_24h, \n",
    "  updated_rn.high_24h, \n",
    "  updated_rn.low_24h, \n",
    "  updated_rn.current_price, \n",
    "  updated_rn.fully_diluted_valuation, \n",
    "  updated_rn.date_partition, \n",
    "  updated_rn.last_updated_ts\n",
    ");"
   ]
  }
 ],
 "metadata": {
  "application/vnd.databricks.v1+notebook": {
   "computePreferences": null,
   "dashboards": [],
   "environmentMetadata": {
    "base_environment": "",
    "environment_version": "2"
   },
   "inputWidgetPreferences": null,
   "language": "python",
   "notebookMetadata": {
    "mostRecentlyExecutedCommandWithImplicitDF": {
     "commandId": 7130199907363347,
     "dataframes": [
      "_sqldf"
     ]
    },
    "pythonIndentUnit": 4
   },
   "notebookName": "gold_layer",
   "widgets": {}
  },
  "language_info": {
   "name": "python"
  }
 },
 "nbformat": 4,
 "nbformat_minor": 0
}
