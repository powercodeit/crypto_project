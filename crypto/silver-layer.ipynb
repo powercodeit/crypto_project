{
 "cells": [
  {
   "cell_type": "code",
   "execution_count": 0,
   "metadata": {
    "application/vnd.databricks.v1+cell": {
     "cellMetadata": {
      "byteLimit": 2048000,
      "rowLimit": 10000
     },
     "inputWidgets": {},
     "nuid": "05fbee41-876d-4115-82db-7c9cbe647ca9",
     "showTitle": false,
     "tableResultSettingsMap": {},
     "title": ""
    }
   },
   "outputs": [],
   "source": [
    "from pyspark.sql.functions import *\n",
    "from pyspark.sql.types import *"
   ]
  },
  {
   "cell_type": "code",
   "execution_count": 0,
   "metadata": {
    "application/vnd.databricks.v1+cell": {
     "cellMetadata": {
      "byteLimit": 2048000,
      "rowLimit": 10000
     },
     "inputWidgets": {},
     "nuid": "e407053a-85e8-483a-adab-b808c42554d5",
     "showTitle": false,
     "tableResultSettingsMap": {},
     "title": ""
    }
   },
   "outputs": [],
   "source": [
    "bronze_path=\"abfss://bronze@cryptostoragesy01.dfs.core.windows.net/\"\n",
    "silver_path=\"abfss://silver@cryptostoragesy01.dfs.core.windows.net/silver_crypto\"\n",
    "schema_path=\"abfss://schema@cryptostoragesy01.dfs.core.windows.net/\"\n",
    "checkpoint_path=\"abfss://silver@cryptostoragesy01.dfs.core.windows.net/_checkpoints/crypto_market\""
   ]
  },
  {
   "cell_type": "markdown",
   "metadata": {
    "application/vnd.databricks.v1+cell": {
     "cellMetadata": {
      "byteLimit": 2048000,
      "rowLimit": 10000
     },
     "inputWidgets": {},
     "nuid": "33059189-7444-412d-8fae-a31038b17161",
     "showTitle": false,
     "tableResultSettingsMap": {},
     "title": ""
    }
   },
   "source": [
    "# Using Autoloader"
   ]
  },
  {
   "cell_type": "code",
   "execution_count": 0,
   "metadata": {
    "application/vnd.databricks.v1+cell": {
     "cellMetadata": {
      "byteLimit": 2048000,
      "rowLimit": 10000
     },
     "inputWidgets": {},
     "nuid": "1db21a61-52c0-43fe-98f6-6cc7431afe92",
     "showTitle": false,
     "tableResultSettingsMap": {},
     "title": ""
    }
   },
   "outputs": [],
   "source": [
    "spark.read\\\n",
    "  .format('json')\\\n",
    "  .option(\"multiline\", True)\\\n",
    "  .load(bronze_path)"
   ]
  },
  {
   "cell_type": "code",
   "execution_count": 0,
   "metadata": {
    "application/vnd.databricks.v1+cell": {
     "cellMetadata": {
      "byteLimit": 2048000,
      "rowLimit": 10000
     },
     "inputWidgets": {},
     "nuid": "39cdcc5b-9453-41ae-b314-c822834dbcca",
     "showTitle": false,
     "tableResultSettingsMap": {},
     "title": ""
    }
   },
   "outputs": [],
   "source": [
    "df = spark.readStream\\\n",
    "    .format(\"cloudFiles\")\\\n",
    "    .option(\"cloudFiles.format\", \"json\")\\\n",
    "    .option(\"cloudFiles.schemaLocation\", schema_path)\\\n",
    "    .option(\"cloudFiles.schemaEvolutionMode\", \"addNewColumns\")\\\n",
    "    .option(\"cloudFiles.schemaHints\", \n",
    "            \"\"\"\n",
    "            roi STRUCT<times:DOUBLE, currency:STRING, percentage:DOUBLE>,\n",
    "            ath STRING,\n",
    "            ath_change_percentage STRING,\n",
    "            ath_date STRING,\n",
    "            atl STRING,\n",
    "            atl_change_percentage STRING,\n",
    "            atl_date STRING,\n",
    "            circulating_supply STRING,\n",
    "            current_price STRING,\n",
    "            high_24h STRING,\n",
    "            id STRING,\n",
    "            last_updated STRING,\n",
    "            low_24h STRING,\n",
    "            market_cap STRING,\n",
    "            market_cap_change_24h STRING,\n",
    "            market_cap_change_percentage_24h STRING,\n",
    "            market_cap_rank STRING,\n",
    "            max_supply STRING,\n",
    "            name STRING,\n",
    "            price_change_24h STRING,\n",
    "            price_change_percentage_24h STRING,\n",
    "            symbol STRING,\n",
    "            total_supply STRING,\n",
    "            total_volume STRING\n",
    "            \"\"\")\\\n",
    "    .load(bronze_path)\\\n",
    "    .withColumn(\"ingested_time\", current_timestamp())"
   ]
  },
  {
   "cell_type": "markdown",
   "metadata": {
    "application/vnd.databricks.v1+cell": {
     "cellMetadata": {
      "byteLimit": 2048000,
      "rowLimit": 10000
     },
     "inputWidgets": {},
     "nuid": "cf324eb3-c09d-4e84-8a22-173613e86153",
     "showTitle": false,
     "tableResultSettingsMap": {},
     "title": ""
    }
   },
   "source": [
    "## Transforming our data using Pyspark"
   ]
  },
  {
   "cell_type": "code",
   "execution_count": 0,
   "metadata": {
    "application/vnd.databricks.v1+cell": {
     "cellMetadata": {
      "byteLimit": 2048000,
      "rowLimit": 10000
     },
     "inputWidgets": {},
     "nuid": "8e65c0a6-9ef2-4c58-8c31-8d24a7a229ec",
     "showTitle": false,
     "tableResultSettingsMap": {},
     "title": ""
    }
   },
   "outputs": [],
   "source": [
    "df_parsed = df\\\n",
    "    .withColumn('roi_time', col('roi.times'))\\\n",
    "    .withColumn('roi_currency', col('roi.currency'))\\\n",
    "    .withColumn('roi_percentage', col('roi.percentage'))\\\n",
    "    .drop('roi')"
   ]
  },
  {
   "cell_type": "code",
   "execution_count": 0,
   "metadata": {
    "application/vnd.databricks.v1+cell": {
     "cellMetadata": {
      "byteLimit": 2048000,
      "rowLimit": 10000
     },
     "inputWidgets": {},
     "nuid": "9d6e8f91-04ad-48c5-9fda-c455ad7feaa6",
     "showTitle": false,
     "tableResultSettingsMap": {},
     "title": ""
    }
   },
   "outputs": [],
   "source": [
    "from pyspark.sql.functions import regexp_replace, to_timestamp, to_date"
   ]
  },
  {
   "cell_type": "code",
   "execution_count": 0,
   "metadata": {
    "application/vnd.databricks.v1+cell": {
     "cellMetadata": {
      "byteLimit": 2048000,
      "rowLimit": 10000
     },
     "inputWidgets": {},
     "nuid": "9e263bfe-76f8-489e-baf7-405fd507a6e3",
     "showTitle": false,
     "tableResultSettingsMap": {},
     "title": ""
    }
   },
   "outputs": [],
   "source": [
    "df_transformed = df_parsed\\\n",
    "    .withColumn(\"last_updated_clean\", regexp_replace(col(\"last_updated\"), \"(Z|\\\\+00:00)$\", \"\"))\\\n",
    "    .withColumn(\"last_updated_ts\",\n",
    "        when(col(\"last_updated_clean\").isNotNull(),\n",
    "            to_timestamp(col(\"last_updated_clean\"), \"yyyy-MM-dd'T'HH:mm:ss.SSS\")\n",
    "        ).otherwise(current_timestamp())\n",
    "    )\\\n",
    "    .drop(\"last_updated_clean\", \"last_updated\")\\\n",
    "    .withColumn(\"date_partition\", to_date(col(\"last_updated_ts\")))\\\n",
    "    .withColumn(\"ath_date_clean\", regexp_replace(col(\"ath_date\"), \"(Z|\\\\+00:00)$\", \"\"))\\\n",
    "    .withColumn(\"ath_date_ts\",\n",
    "        when(col(\"ath_date_clean\").isNotNull(),\n",
    "            to_timestamp(col(\"ath_date_clean\"), \"yyyy-MM-dd'T'HH:mm:ss.SSS\")\n",
    "        )\n",
    "    )\\\n",
    "    .drop(\"ath_date_clean\", \"ath_date\")\\\n",
    "    .withColumn(\"atl_date_clean\", regexp_replace(col(\"atl_date\"), \"(Z|\\\\+00:00)$\", \"\"))\\\n",
    "    .withColumn(\"atl_date_ts\",\n",
    "        when(col(\"atl_date_clean\").isNotNull(),\n",
    "            to_timestamp(col(\"atl_date_clean\"), \"yyyy-MM-dd'T'HH:mm:ss.SSS\")\n",
    "        )\n",
    "    )\\\n",
    "    .drop(\"atl_date_clean\", \"atl_date\")\n",
    "    \n",
    "                   "
   ]
  },
  {
   "cell_type": "code",
   "execution_count": 0,
   "metadata": {
    "application/vnd.databricks.v1+cell": {
     "cellMetadata": {
      "byteLimit": 2048000,
      "rowLimit": 10000
     },
     "inputWidgets": {},
     "nuid": "b66b2da3-3080-4563-aa02-e2d4724b6ae8",
     "showTitle": false,
     "tableResultSettingsMap": {},
     "title": ""
    }
   },
   "outputs": [],
   "source": [
    "df_metrics = df_transformed\\\n",
    "    .withColumn(\"market_cap_double\", col(\"market_cap\").cast(DoubleType()))\\\n",
    "    .withColumn(\"total_volume_double\", col(\"total_volume\").cast(DoubleType()))\\\n",
    "    .withColumn(\"market_cap_billions\",\n",
    "        when(col(\"market_cap_double\").isNotNull(), col(\"market_cap_double\") / 1_000_000_000.0)\n",
    "        .otherwise(0.0)\n",
    "    )\\\n",
    "    .withColumn(\"volume_to_market_cap_ratio\", \n",
    "        when(\n",
    "            (col(\"total_volume_double\").isNotNull()) &\n",
    "            (col(\"market_cap_double\").isNotNull()) &\n",
    "            (col(\"market_cap_double\") > 0),\n",
    "            col(\"total_volume_double\") / col(\"market_cap_double\")\n",
    "        ).otherwise(0.0)\n",
    "    )"
   ]
  },
  {
   "cell_type": "code",
   "execution_count": 0,
   "metadata": {
    "application/vnd.databricks.v1+cell": {
     "cellMetadata": {
      "byteLimit": 2048000,
      "rowLimit": 10000
     },
     "inputWidgets": {},
     "nuid": "e903cfbe-25a5-4c1d-bb3a-274961c66b6b",
     "showTitle": false,
     "tableResultSettingsMap": {},
     "title": ""
    }
   },
   "outputs": [],
   "source": [
    "df_final = df_metrics\\\n",
    "    .filter(\n",
    "        col(\"symbol\").isNotNull() & \n",
    "        col(\"last_updated_ts\").isNotNull() &\n",
    "        col(\"date_partition\").isNotNull() &\n",
    "        col(\"market_cap_billions\").isNotNull() &\n",
    "        col(\"id\").isNotNull()\n",
    "    )\\\n",
    "    .dropDuplicates([\"id\", \"last_updated_ts\"])"
   ]
  },
  {
   "cell_type": "markdown",
   "metadata": {
    "application/vnd.databricks.v1+cell": {
     "cellMetadata": {
      "byteLimit": 2048000,
      "rowLimit": 10000
     },
     "inputWidgets": {},
     "nuid": "c9f2807c-69f3-4475-8c3d-326e7b238ea8",
     "showTitle": false,
     "tableResultSettingsMap": {},
     "title": ""
    }
   },
   "source": [
    "## Writing to our silver layer"
   ]
  },
  {
   "cell_type": "code",
   "execution_count": 0,
   "metadata": {
    "application/vnd.databricks.v1+cell": {
     "cellMetadata": {
      "byteLimit": 2048000,
      "rowLimit": 10000
     },
     "inputWidgets": {},
     "nuid": "b286dd14-80ff-4b34-968a-63d096366240",
     "showTitle": false,
     "tableResultSettingsMap": {},
     "title": ""
    }
   },
   "outputs": [],
   "source": [
    "query = df_final.writeStream\\\n",
    "    .format(\"delta\")\\\n",
    "    .outputMode(\"append\")\\\n",
    "    .option(\"checkpointLocation\", checkpoint_path)\\\n",
    "    .trigger(once=True)\\\n",
    "    .start(silver_path)"
   ]
  },
  {
   "cell_type": "code",
   "execution_count": 0,
   "metadata": {
    "application/vnd.databricks.v1+cell": {
     "cellMetadata": {
      "byteLimit": 2048000,
      "rowLimit": 10000
     },
     "inputWidgets": {},
     "nuid": "dc16f0d5-d90d-4edc-8840-d799828b463e",
     "showTitle": false,
     "tableResultSettingsMap": {},
     "title": ""
    }
   },
   "outputs": [],
   "source": []
  }
 ],
 "metadata": {
  "application/vnd.databricks.v1+notebook": {
   "computePreferences": {
    "hardware": {
     "accelerator": null,
     "gpuPoolId": null,
     "memory": null
    }
   },
   "dashboards": [],
   "environmentMetadata": {
    "base_environment": "",
    "environment_version": "2"
   },
   "inputWidgetPreferences": null,
   "language": "python",
   "notebookMetadata": {
    "mostRecentlyExecutedCommandWithImplicitDF": {
     "commandId": 2016513869172691,
     "dataframes": [
      "_sqldf"
     ]
    },
    "pythonIndentUnit": 4
   },
   "notebookName": "silver-layer",
   "widgets": {}
  },
  "language_info": {
   "name": "python"
  }
 },
 "nbformat": 4,
 "nbformat_minor": 0
}
